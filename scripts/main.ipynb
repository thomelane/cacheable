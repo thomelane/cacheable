{
 "cells": [
  {
   "cell_type": "code",
   "execution_count": 1,
   "metadata": {},
   "outputs": [],
   "source": [
    "from cacheables import cacheable, enable_debug_logging"
   ]
  },
  {
   "cell_type": "code",
   "execution_count": 2,
   "metadata": {},
   "outputs": [],
   "source": [
    "enable_debug_logging()"
   ]
  },
  {
   "cell_type": "code",
   "execution_count": 3,
   "metadata": {},
   "outputs": [],
   "source": [
    "@cacheable\n",
    "def foo(a, b):\n",
    "    return a + b"
   ]
  },
  {
   "cell_type": "code",
   "execution_count": 5,
   "metadata": {},
   "outputs": [],
   "source": [
    "foo._write"
   ]
  },
  {
   "cell_type": "code",
   "execution_count": null,
   "metadata": {},
   "outputs": [],
   "source": [
    "foo._write_allowed():\n",
    "\n",
    "# should check env variables\n",
    "# _write property\n",
    "\n",
    "# if any are False, not allowed\n",
    "# if any are True, allowed\n",
    "# if just None, not allowed"
   ]
  },
  {
   "cell_type": "code",
   "execution_count": 9,
   "metadata": {},
   "outputs": [
    {
     "data": {
      "text/plain": [
       "'10dfa08ce5ecd2cbeba55099aac3ef52'"
      ]
     },
     "execution_count": 9,
     "metadata": {},
     "output_type": "execute_result"
    }
   ],
   "source": [
    "foo.get_input_id(1, 2)"
   ]
  },
  {
   "cell_type": "code",
   "execution_count": 16,
   "metadata": {},
   "outputs": [
    {
     "data": {
      "text/plain": [
       "4"
      ]
     },
     "execution_count": 16,
     "metadata": {},
     "output_type": "execute_result"
    }
   ],
   "source": [
    "input_id = foo.get_input_id(1, 2)\n",
    "foo.read(input_id)"
   ]
  },
  {
   "cell_type": "code",
   "execution_count": 17,
   "metadata": {},
   "outputs": [],
   "source": [
    "foo.write(4, input_id)"
   ]
  },
  {
   "cell_type": "code",
   "execution_count": 18,
   "metadata": {},
   "outputs": [
    {
     "name": "stderr",
     "output_type": "stream",
     "text": [
      "\u001b[32m12:01:20.822\u001b[0m | \u001b[1mINFO    \u001b[0m | \u001b[1mfn: __main__:foo\u001b[0m | \u001b[1mreading output from cache\u001b[0m\n",
      "\u001b[32m12:01:20.824\u001b[0m | \u001b[1mINFO    \u001b[0m | \u001b[1mfn: __main__:foo\u001b[0m | \u001b[1mreading output from cache\u001b[0m\n"
     ]
    }
   ],
   "source": [
    "with foo.enable_cache():\n",
    "    a = foo(1, 2)\n",
    "    a = foo(1, 2)"
   ]
  },
  {
   "cell_type": "code",
   "execution_count": 20,
   "metadata": {},
   "outputs": [],
   "source": [
    "# print(foo.get_input_id(\"s3://sdfsdf\"))\n",
    "document = foo.read(\"10dfa08ce5ecd2cbeba55099aac3ef52\")"
   ]
  },
  {
   "cell_type": "code",
   "execution_count": 21,
   "metadata": {},
   "outputs": [
    {
     "data": {
      "text/plain": [
       "4"
      ]
     },
     "execution_count": 21,
     "metadata": {},
     "output_type": "execute_result"
    }
   ],
   "source": [
    "document"
   ]
  },
  {
   "cell_type": "code",
   "execution_count": 13,
   "metadata": {},
   "outputs": [
    {
     "data": {
      "text/plain": [
       "True"
      ]
     },
     "execution_count": 13,
     "metadata": {},
     "output_type": "execute_result"
    }
   ],
   "source": [
    "write = None\n",
    "env_disable = None\n",
    "env_enable = None\n",
    "if not"
   ]
  },
  {
   "cell_type": "code",
   "execution_count": null,
   "metadata": {},
   "outputs": [],
   "source": [
    "a = None  # can be None or True\n",
    "b = None  # can be None or False\n",
    "\n",
    "env_disable = False if self._is_env_var_set(\"DISABLE_CACHEABLE\") else None\n",
    "env_enable = True if self._is_env_var_set(\"ENABLE_CACHEABLE\") else None\n",
    "\n",
    "if b is False:\n",
    "    return False\n",
    "elif a is True:\n",
    "    return True\n",
    "else:\n",
    "    return None"
   ]
  },
  {
   "cell_type": "code",
   "execution_count": null,
   "metadata": {},
   "outputs": [],
   "source": [
    "from cacheables import enable_cache\n",
    "\n",
    "foo(1, 2)  # won't use cache\n",
    "\n",
    "with cacheables.enable_cache():\n",
    "    foo(1, 2)  # will save to cache\n",
    "    foo(1, 2)  # will use cache\n",
    "\n",
    "cacheables.enable_cache()  # equivalent to cacheables.enable_cache()\n",
    "\n",
    "foo(1, 2)  # will use cache\n",
    "foo(1, 2)  # will use cache"
   ]
  },
  {
   "cell_type": "code",
   "execution_count": null,
   "metadata": {},
   "outputs": [],
   "source": [
    "    @staticmethod\n",
    "    def _is_env_var_set(env_var: str) -> bool:\n",
    "        \"\"\"Check if an environment variable is set to 'true'.\"\"\"\n",
    "        return os.getenv(env_var, '').lower() == 'true'\n",
    "    \n",
    "    def _write_is_enabled(self) -> bool:\n",
    "        \"\"\"\n",
    "        Checks 3 sources of truth:\n",
    "        - `self._write` (set by `enable_cache` and `disable_cache`)\n",
    "        - `os.getenv(\"ENABLE_CACHEABLE\")`\n",
    "        - `os.getenv(\"DISABLE_CACHEABLE\")`\n",
    "\n",
    "        If any of these are set to `false`, then writing is not allowed.\n",
    "        Otherwise, if any of these are set to `true`, then writing is allowed.\n",
    "        Otherwise, writing is not allowed. (i.e. if all are `None`)\n",
    "        \"\"\"\n",
    "        env_disable = True if self._is_env_var_set(\"DISABLE_CACHEABLE\") else None\n",
    "        env_enable = True if self._is_env_var_set(\"ENABLE_CACHEABLE\") else None\n",
    "        write = self._write\n",
    "        return not (\n",
    "            (write is False) or (env_disable is True) or (env_enable is False)\n",
    "        )\n"
   ]
  },
  {
   "cell_type": "code",
   "execution_count": null,
   "metadata": {},
   "outputs": [],
   "source": [
    "foo(1, 2)  # doesn't use cache\n",
    "\n",
    "foo.cache.enable()\n",
    "\n",
    "foo(1, 2)  # uses cache\n",
    "foo(1, 2)  # uses cache\n",
    "\n",
    "foo.cache.disable()\n",
    "\n",
    "foo(1, 2)  # doesn't use cache\n",
    "\n",
    "foo.cache.enable(read=True, write=False)\n",
    "foo.cache.enable(read=False, write=True)\n",
    "\n",
    "# will still be disabled because of the most restrictive setting\n",
    "# but will warn. can use context manager to only apply temporarily.\n",
    "\n",
    "with foo.enable_cache():\n",
    "    foo(1, 2)  # uses cache\n",
    "    with foo.disable_cache():\n",
    "        foo(1, 2)  # doesn't use cache\n",
    "    foo(1, 2)  # uses cache\n",
    "\n",
    "\n",
    "caches.enable()\n",
    "\n",
    "from cacheables import cacheable, enable_all_caches, disable_all_caches\n",
    "\n",
    "\n",
    "enable_all_caches()\n",
    "\n",
    "enable_cache()\n",
    "\n"
   ]
  },
  {
   "cell_type": "code",
   "execution_count": null,
   "metadata": {},
   "outputs": [],
   "source": [
    "from cacheables import cacheable, Cache"
   ]
  },
  {
   "cell_type": "code",
   "execution_count": null,
   "metadata": {},
   "outputs": [],
   "source": [
    "foo.cache.enable()\n",
    "\n",
    "with Cache.enable():\n",
    "    "
   ]
  },
  {
   "cell_type": "code",
   "execution_count": null,
   "metadata": {},
   "outputs": [],
   "source": [
    "from cacheables import cacheable, enable\n",
    "\n",
    "caches.enable()\n",
    "\n",
    "caches.DiskCache()\n",
    "\n"
   ]
  }
 ],
 "metadata": {
  "kernelspec": {
   "display_name": "Python 3 (ipykernel)",
   "language": "python",
   "name": "python3"
  },
  "language_info": {
   "codemirror_mode": {
    "name": "ipython",
    "version": 3
   },
   "file_extension": ".py",
   "mimetype": "text/x-python",
   "name": "python",
   "nbconvert_exporter": "python",
   "pygments_lexer": "ipython3",
   "version": "3.11.4"
  }
 },
 "nbformat": 4,
 "nbformat_minor": 4
}
