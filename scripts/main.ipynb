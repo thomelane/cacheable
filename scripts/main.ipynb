{
 "cells": [
  {
   "cell_type": "code",
   "execution_count": 1,
   "metadata": {},
   "outputs": [],
   "source": [
    "from cacheables import cacheable, enable_debug_logging\n",
    "from cacheables.backends import DiskBackend\n",
    "from cacheables.serializers import PickleSerializer"
   ]
  },
  {
   "cell_type": "code",
   "execution_count": 2,
   "metadata": {},
   "outputs": [],
   "source": [
    "enable_debug_logging()"
   ]
  },
  {
   "cell_type": "code",
   "execution_count": 11,
   "metadata": {},
   "outputs": [],
   "source": [
    "@cacheable\n",
    "def foo(a, b, c, d=None):\n",
    "    return a + b + c"
   ]
  },
  {
   "cell_type": "code",
   "execution_count": 19,
   "metadata": {},
   "outputs": [
    {
     "name": "stderr",
     "output_type": "stream",
     "text": [
      "\u001b[32m23:35:45.760\u001b[0m | \u001b[34m\u001b[1mDEBUG   \u001b[0m | \u001b[34m\u001b[1mfn: foo\u001b[0m | \u001b[34m\u001b[1mexecuting function\u001b[0m\n"
     ]
    },
    {
     "data": {
      "text/plain": [
       "6"
      ]
     },
     "execution_count": 19,
     "metadata": {},
     "output_type": "execute_result"
    }
   ],
   "source": [
    "foo(1, 2, 3)"
   ]
  },
  {
   "cell_type": "code",
   "execution_count": 13,
   "metadata": {},
   "outputs": [
    {
     "name": "stderr",
     "output_type": "stream",
     "text": [
      "\u001b[32m23:35:22.324\u001b[0m | \u001b[34m\u001b[1mDEBUG   \u001b[0m | \u001b[34m\u001b[1mfn: foo\u001b[0m | \u001b[34m\u001b[1moutput not found in cache\u001b[0m\n",
      "\u001b[32m23:35:22.325\u001b[0m | \u001b[34m\u001b[1mDEBUG   \u001b[0m | \u001b[34m\u001b[1mfn: foo\u001b[0m | \u001b[34m\u001b[1mexecuting function\u001b[0m\n",
      "\u001b[32m23:35:22.325\u001b[0m | \u001b[1mINFO    \u001b[0m | \u001b[1mfn: foo\u001b[0m | \u001b[1mwriting output to cache\u001b[0m\n"
     ]
    }
   ],
   "source": [
    "with foo.enable_cache():\n",
    "    a = foo(1, 2, 5)"
   ]
  },
  {
   "cell_type": "code",
   "execution_count": 14,
   "metadata": {},
   "outputs": [
    {
     "name": "stderr",
     "output_type": "stream",
     "text": [
      "\u001b[32m23:35:23.153\u001b[0m | \u001b[34m\u001b[1mDEBUG   \u001b[0m | \u001b[34m\u001b[1mfn: foo\u001b[0m | \u001b[34m\u001b[1moutput not found in cache\u001b[0m\n",
      "\u001b[32m23:35:23.154\u001b[0m | \u001b[34m\u001b[1mDEBUG   \u001b[0m | \u001b[34m\u001b[1mfn: foo\u001b[0m | \u001b[34m\u001b[1mexecuting function\u001b[0m\n",
      "\u001b[32m23:35:23.154\u001b[0m | \u001b[1mINFO    \u001b[0m | \u001b[1mfn: foo\u001b[0m | \u001b[1mwriting output to cache\u001b[0m\n"
     ]
    }
   ],
   "source": [
    "with foo.enable_cache():\n",
    "    a = foo(1, 2, 8)"
   ]
  },
  {
   "cell_type": "code",
   "execution_count": 17,
   "metadata": {},
   "outputs": [
    {
     "ename": "MissingOutputException",
     "evalue": "output not found in cache",
     "output_type": "error",
     "traceback": [
      "\u001b[0;31m---------------------------------------------------------------------------\u001b[0m",
      "\u001b[0;31mMissingOutputException\u001b[0m                    Traceback (most recent call last)",
      "Cell \u001b[0;32mIn[17], line 1\u001b[0m\n\u001b[0;32m----> 1\u001b[0m foo\u001b[39m.\u001b[39;49mload_from_args(\u001b[39m1\u001b[39;49m, \u001b[39m2\u001b[39;49m, \u001b[39m3\u001b[39;49m)\n\u001b[1;32m      2\u001b[0m \u001b[39m# todo: should log to console (read output from cache)\u001b[39;00m\n",
      "File \u001b[0;32m~/Projects/cacheables/cacheables/core.py:179\u001b[0m, in \u001b[0;36mCacheableFunction.load_from_args\u001b[0;34m(self, *args, **kwargs)\u001b[0m\n\u001b[1;32m    177\u001b[0m \u001b[39mdef\u001b[39;00m \u001b[39mload_from_args\u001b[39m(\u001b[39mself\u001b[39m, \u001b[39m*\u001b[39margs, \u001b[39m*\u001b[39m\u001b[39m*\u001b[39mkwargs):\n\u001b[1;32m    178\u001b[0m     input_key \u001b[39m=\u001b[39m \u001b[39mself\u001b[39m\u001b[39m.\u001b[39mget_input_key(\u001b[39m*\u001b[39margs, \u001b[39m*\u001b[39m\u001b[39m*\u001b[39mkwargs)\n\u001b[0;32m--> 179\u001b[0m     \u001b[39mreturn\u001b[39;00m \u001b[39mself\u001b[39;49m\u001b[39m.\u001b[39;49mload_from_key(input_key)\n",
      "File \u001b[0;32m~/Projects/cacheables/cacheables/core.py:174\u001b[0m, in \u001b[0;36mCacheableFunction.load_from_key\u001b[0;34m(self, input_key)\u001b[0m\n\u001b[1;32m    172\u001b[0m \u001b[39mdef\u001b[39;00m \u001b[39mload_from_key\u001b[39m(\u001b[39mself\u001b[39m, input_key: InputKey):\n\u001b[1;32m    173\u001b[0m     \u001b[39mif\u001b[39;00m \u001b[39mnot\u001b[39;00m \u001b[39mself\u001b[39m\u001b[39m.\u001b[39m_backend\u001b[39m.\u001b[39moutput_exists(input_key):\n\u001b[0;32m--> 174\u001b[0m         \u001b[39mraise\u001b[39;00m MissingOutputException(\u001b[39m\"\u001b[39m\u001b[39moutput not found in cache\u001b[39m\u001b[39m\"\u001b[39m)\n\u001b[1;32m    175\u001b[0m     \u001b[39mreturn\u001b[39;00m \u001b[39mself\u001b[39m\u001b[39m.\u001b[39m_backend\u001b[39m.\u001b[39mread_output(input_key)\n",
      "\u001b[0;31mMissingOutputException\u001b[0m: output not found in cache"
     ]
    }
   ],
   "source": [
    "foo.load_from_args(1, 2, 3)\n",
    "# todo: should log to console (read output from cache)"
   ]
  },
  {
   "cell_type": "code",
   "execution_count": 18,
   "metadata": {},
   "outputs": [
    {
     "data": {
      "text/plain": [
       "[VersionKey(function_id='foo', version_id='556466c87bdac5631380ef15009fb6b8'),\n",
       " VersionKey(function_id='foo', version_id='0264980d59ca3b5a69f239cde00eb13d')]"
      ]
     },
     "execution_count": 18,
     "metadata": {},
     "output_type": "execute_result"
    }
   ],
   "source": [
    "foo.list_version_keys()"
   ]
  },
  {
   "cell_type": "code",
   "execution_count": null,
   "metadata": {},
   "outputs": [],
   "source": [
    "foo.store_metadata(id=\"123\").call(object)"
   ]
  },
  {
   "cell_type": "code",
   "execution_count": null,
   "metadata": {},
   "outputs": [],
   "source": [
    "# cacheables remove foo --age 3m (Found 500 items older than 3 months. Do you want to proceed? [Y/n])\n",
    "# cacheables remove foo --age 3m --dry-run\n",
    "# cacheables remove foo --age 3m --force\n",
    "\n",
    "# cacheables rename foo bar\n",
    "\n",
    "# cacheables describe foo\n",
    " * most common created at date\n",
    " * most common last accessed at date\n",
    "\n",
    "# add sql-lite backend for metadata"
   ]
  }
 ],
 "metadata": {
  "kernelspec": {
   "display_name": ".venv",
   "language": "python",
   "name": "python3"
  },
  "language_info": {
   "codemirror_mode": {
    "name": "ipython",
    "version": 3
   },
   "file_extension": ".py",
   "mimetype": "text/x-python",
   "name": "python",
   "nbconvert_exporter": "python",
   "pygments_lexer": "ipython3",
   "version": "3.11.4"
  },
  "orig_nbformat": 4
 },
 "nbformat": 4,
 "nbformat_minor": 2
}
